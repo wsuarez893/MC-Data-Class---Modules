{
 "cells": [
  {
   "cell_type": "markdown",
   "id": "6a649fe1",
   "metadata": {},
   "source": [
    "# Module 9: Data Manipulation II\n",
    "\n",
    "Datasets rarely come perfectly ready for analysis. Sometimes they need a little cleaning up, modification, or adjustment to meet the needs of your analyses. In our second lesson on data manipulation, you will learn some of the more complex methods for making changes to your dataset. \n",
    "\n",
    "***************"
   ]
  },
  {
   "cell_type": "code",
   "execution_count": null,
   "id": "1d710f6b",
   "metadata": {},
   "outputs": [],
   "source": [
    "import pandas as pd\n",
    "import numpy as np"
   ]
  },
  {
   "cell_type": "markdown",
   "id": "7d116fc8",
   "metadata": {},
   "source": [
    "## Creating Columns with Multiple Conditions\n",
    "\n",
    "You can use the <b>np.select()</b> function to create and populate a column based on multiple conditions. This process is multiple steps, but once you understand the organization of the code, there is a lot of utility in the function. "
   ]
  },
  {
   "cell_type": "code",
   "execution_count": null,
   "id": "f9ac4a05",
   "metadata": {},
   "outputs": [],
   "source": [
    "## bringing in data to practice\n",
    "\n",
    "people = {'Name':[\"Morgan\", \"Veronica\", \"Brandi\", \"Anne\", \"Paul\", \"Mitch\", \"Augustus\"],\n",
    "        'Age':[16, 34, 75, 67, 33, 28, 11]}\n",
    "\n",
    "df = pd.DataFrame(people)\n",
    "df"
   ]
  },
  {
   "cell_type": "code",
   "execution_count": null,
   "id": "726ff4bc",
   "metadata": {},
   "outputs": [],
   "source": [
    "## Creating Age Groups based on Age Column\n",
    "\n",
    "# define the conditions that you want to check \n",
    "\n",
    "conditions = [(df[\"Age\"] >= 65), \n",
    "              (df[\"Age\"] < 65) & (df[\"Age\"] >= 18), \n",
    "              (df[\"Age\"] < 18)]\n",
    "\n",
    "# define the outcome/value for the new column based on the condition\n",
    "\n",
    "outcome = [\"Senior\", \"Adult\", \"Minor\"]\n",
    "\n",
    "### apply the np.select() function and input the lists you've jsut defined\n",
    "# df[new col] = np.select(conditions list, outcome list, default = what to do if all conditions are False)\n",
    "\n",
    "df[\"Age Group\"] = np.select(conditions, outcome, default = \"Unknown\")\n",
    "\n",
    "# check changes\n",
    "\n",
    "df"
   ]
  },
  {
   "cell_type": "markdown",
   "id": "c74da2a4",
   "metadata": {},
   "source": [
    "## Replacing Values\n",
    "\n",
    "Identify and replace specific values within the entire dataset or a subset of the dataset. You can replace specific values or you can use this methdod to also replace missing values. \n",
    "\n",
    "    df.replace(what to repalce, what to replace it with)"
   ]
  },
  {
   "cell_type": "code",
   "execution_count": null,
   "id": "14eac35f",
   "metadata": {},
   "outputs": [],
   "source": [
    "## bringing in data to practice\n",
    "\n",
    "grades = {'Student':[\"Taylor\", np.nan, \"Sherrie\", \"Mary\", \"Henry\", \"Michael\", \"June\"],\n",
    "        'Grades':[89, 101, 100, 79, 81, 101, 97],\n",
    "        'Subject':[\"Math\", \"English\", \"Studio Art\", np.nan, \"Chemistry\", \"Latin\", \"Physics\"]}\n",
    "\n",
    "df = pd.DataFrame(grades)\n",
    "df"
   ]
  },
  {
   "cell_type": "markdown",
   "id": "5e2136f2",
   "metadata": {},
   "source": [
    "***\n",
    "### Replacing Specific Values\n",
    "***"
   ]
  },
  {
   "cell_type": "code",
   "execution_count": null,
   "id": "c24491a9",
   "metadata": {},
   "outputs": [],
   "source": [
    "## replace all the \"101\" values to \"100\"\n",
    "\n",
    "df.replace(101, 100, inplace = True)\n",
    "\n",
    "## check changes\n",
    "\n",
    "df"
   ]
  },
  {
   "cell_type": "code",
   "execution_count": null,
   "id": "2445c410",
   "metadata": {},
   "outputs": [],
   "source": [
    "## replace the missing value with \"Unknown\"\n",
    "\n",
    "df.replace(np.nan, \"Unknown\", inplace = True)\n",
    "\n",
    "## check changes\n",
    "\n",
    "df"
   ]
  },
  {
   "cell_type": "code",
   "execution_count": null,
   "id": "a246019d",
   "metadata": {},
   "outputs": [],
   "source": [
    "## replace a specific value in a specific column\n",
    "\n",
    "df[\"Student\"].replace(\"Mary\", \"Mary-Ann\", inplace = True)\n",
    "\n",
    "## check changes\n",
    "\n",
    "df"
   ]
  },
  {
   "cell_type": "markdown",
   "id": "c3ef3d8c",
   "metadata": {},
   "source": [
    "***\n",
    "### Replacing Multiple Values\n",
    "***"
   ]
  },
  {
   "cell_type": "code",
   "execution_count": null,
   "id": "9c3a0406",
   "metadata": {},
   "outputs": [],
   "source": [
    "df"
   ]
  },
  {
   "cell_type": "code",
   "execution_count": null,
   "id": "f0662c01",
   "metadata": {},
   "outputs": [],
   "source": [
    "## identify and replace multiple values\n",
    "## use lists to mention multiple values\n",
    "\n",
    "df[\"Subject\"].replace([\"Latin\", \"English\"], [\"Latin Language Study\", \"English Lit\"], inplace = True)\n",
    "\n",
    "## check work\n",
    "\n",
    "df"
   ]
  },
  {
   "cell_type": "markdown",
   "id": "7520e5e5",
   "metadata": {},
   "source": [
    "***\n",
    "### Replacing Values based on a Condition\n",
    "***\n",
    "\n",
    "When you replace a value with a condition, follow the syntax below:\n",
    "\n",
    "    df.loc[column-condition, column to make replacement] = replacement value"
   ]
  },
  {
   "cell_type": "code",
   "execution_count": null,
   "id": "06bcc998",
   "metadata": {},
   "outputs": [],
   "source": [
    "grades = {'Student':[\"Taylor\", np.nan, \"Sherrie\", \"Mary\", \"Henry\", \"Michael\", \"June\"],\n",
    "        'Grades':[89, 105, 100, 79, 81, 101, 97],\n",
    "        'Subject':[\"Math\", \"English\", \"Studio Art\", \"Biology\", \"Chemistry\", \"Latin\", \"Physics\"]}\n",
    "\n",
    "df = pd.DataFrame(grades)\n",
    "df"
   ]
  },
  {
   "cell_type": "code",
   "execution_count": null,
   "id": "f14eea7d",
   "metadata": {
    "scrolled": true
   },
   "outputs": [],
   "source": [
    "df[\"Passed\"] = 0\n",
    "\n",
    "## check changes\n",
    "\n",
    "df"
   ]
  },
  {
   "cell_type": "code",
   "execution_count": null,
   "id": "4afd66fc",
   "metadata": {},
   "outputs": [],
   "source": [
    "df.loc[df[\"Grades\"] > 100]"
   ]
  },
  {
   "cell_type": "code",
   "execution_count": null,
   "id": "74559ceb",
   "metadata": {},
   "outputs": [],
   "source": [
    "## if grade is greater than 79, the value in the passed column is replaced by 1\n",
    "## don't need to use inplace = True in this situation\n",
    "\n",
    "df.loc[df[\"Grades\"] > 100, \"Grades\"] = 100\n",
    "\n",
    "## check changes\n",
    "\n",
    "df"
   ]
  },
  {
   "cell_type": "code",
   "execution_count": null,
   "id": "a7bf5383",
   "metadata": {},
   "outputs": [],
   "source": [
    "df.loc[df[\"Grades\"] > 85, \"Passed\"] = 1\n",
    "\n",
    "## check changes\n",
    "\n",
    "df"
   ]
  },
  {
   "cell_type": "markdown",
   "id": "2b76dcd4",
   "metadata": {},
   "source": [
    "***\n",
    "### Replacing Values based on Multiple Conditions\n",
    "***"
   ]
  },
  {
   "cell_type": "code",
   "execution_count": null,
   "id": "a64e43c3",
   "metadata": {},
   "outputs": [],
   "source": [
    "## adding new column \n",
    "\n",
    "df[\"Honor_Role\"] = \"No\"\n",
    "\n",
    "df"
   ]
  },
  {
   "cell_type": "code",
   "execution_count": null,
   "id": "542b564a",
   "metadata": {},
   "outputs": [],
   "source": [
    "## replacing the value based on two conditions\n",
    "\n",
    "\n",
    "df.loc[((df[\"Grades\"] > 89) & (df[\"Passed\"] == 1)), \"Honor_Role\"] = \"Yes\"\n",
    "\n",
    "## check changes\n",
    "\n",
    "df"
   ]
  },
  {
   "cell_type": "markdown",
   "id": "31615064",
   "metadata": {},
   "source": [
    "# { Exercise 1 }\n",
    "\n",
    "Run the cell below to create the passenger dataset. "
   ]
  },
  {
   "cell_type": "code",
   "execution_count": null,
   "id": "59f90c16",
   "metadata": {},
   "outputs": [],
   "source": [
    "## Airline Passenger Data\n",
    " \n",
    "passenger = {\"Name\":[\"Carmen Stanley\", \"Marley Smith\", \"Chadwick Tyler\", \"Vernon Templeton\", \"Kim Balgor\"], \n",
    "             \"Gender\":[\"F\", \"M\", np.nan, \"M\", \"F\"], \n",
    "             \"Nationality\":[\"Columbia\", \"Scotland\", \"USA\", \"Canada\", \"South Africa\"], \n",
    "             \"Airline\":[\"Delta\", \"Southwest\", np.nan, np.nan, \"United\"], \n",
    "             \"Ticket Price\":[456.99, 206.00, 567.75, 789.77, 132.45],\n",
    "             \"Seat Class\":[\"Eco\", \"Eco\", \"Business\", \"First Class\", \"Eco\"], \n",
    "             \"Seat Assign\": [\"18B\", \"23A\", \"9C\", \"2A\", \"34D\"], \n",
    "             \"Checked Bag\":[\"Y\", \"Y\", \"N\", \"Y\", \"N\"], \n",
    "             \"CarryOn Bag\":[\"Y\", \"Y\", \"Y\", \"N\", \"N\"], \n",
    "             \"Destination\":[\"ATL\", \"LA\", \"NYC\", \"ATL\", \"CHI\"], \n",
    "             \"RoundTrip\": [1, 1, 0, 0, 1]}\n",
    "\n",
    "df = pd.DataFrame(passenger)\n",
    "\n",
    "df"
   ]
  },
  {
   "cell_type": "markdown",
   "id": "49b02038",
   "metadata": {},
   "source": [
    "1. Replace the missing values in the dataset with the term \"Unknown\". Use the replace() function to do this. "
   ]
  },
  {
   "cell_type": "code",
   "execution_count": null,
   "id": "cabf8fcb",
   "metadata": {},
   "outputs": [],
   "source": []
  },
  {
   "cell_type": "markdown",
   "id": "f6337716",
   "metadata": {},
   "source": [
    "2. In the gender column, replace the values \"M\" and \"F\" with \"Male\" and \"Female\". "
   ]
  },
  {
   "cell_type": "code",
   "execution_count": null,
   "id": "34db766f",
   "metadata": {},
   "outputs": [],
   "source": []
  },
  {
   "cell_type": "markdown",
   "id": "daafd12b",
   "metadata": {},
   "source": [
    "3. Throughout the entire dataset, replace the values \"Y\" and \"N\" with \"Yes\" and \"No\". "
   ]
  },
  {
   "cell_type": "code",
   "execution_count": null,
   "id": "8fc11c44",
   "metadata": {},
   "outputs": [],
   "source": []
  },
  {
   "cell_type": "markdown",
   "id": "f8faac17",
   "metadata": {},
   "source": [
    "4. In the seat class column, replace the value \"Eco\" with \"Economy\"."
   ]
  },
  {
   "cell_type": "code",
   "execution_count": null,
   "id": "b8087c41",
   "metadata": {},
   "outputs": [],
   "source": []
  },
  {
   "cell_type": "markdown",
   "id": "c1de69ca",
   "metadata": {},
   "source": [
    "5. Create a new column called \"Trip Price\", all the values should be equal to the \"Ticket Price\" column. "
   ]
  },
  {
   "cell_type": "code",
   "execution_count": null,
   "id": "31f7490c",
   "metadata": {},
   "outputs": [],
   "source": []
  },
  {
   "cell_type": "markdown",
   "id": "ca0bda03",
   "metadata": {},
   "source": [
    "6. If RoundTrip equals 1, replace the value of Trip Price with double the ticket price. "
   ]
  },
  {
   "cell_type": "code",
   "execution_count": null,
   "id": "c402f917",
   "metadata": {},
   "outputs": [],
   "source": []
  },
  {
   "cell_type": "markdown",
   "id": "8d0325cc",
   "metadata": {},
   "source": [
    "## Binning Data \n",
    "\n",
    "Binning data allows you to segment values into specific groups. Once you have the gruops created, you can explore groupings as you would categorical variables. \n",
    "\n",
    "For example, if instead of looking at the column of final grade values, you just wanted to know if the student passed or failed - you could create a new column to show which final grade falls into the \"fail bin\" and which final grade falls into the \"pass bin\". \n",
    "\n",
    "Before you can create the bins, you have to specify the parameters of which values will fall into which specific bins. This will take a series of quick steps."
   ]
  },
  {
   "cell_type": "code",
   "execution_count": null,
   "id": "c85a1567",
   "metadata": {},
   "outputs": [],
   "source": [
    "## create dataset to practice with \n",
    "\n",
    "grades = {'Student':[\"Taylor\", np.nan, \"Sherrie\", \"Mary\", \"Henry\", \"Michael\", \"June\"],\n",
    "        'Grades': [89, 56, 100, 68, 81, 71, 97],\n",
    "        'Subject':[\"Math\", \"English\", \"Studio Art\", \"Biology\", \"Chemistry\", \"Latin\", \"Physics\"]}\n",
    "\n",
    "df = pd.DataFrame(grades)\n",
    "df"
   ]
  },
  {
   "cell_type": "code",
   "execution_count": null,
   "id": "1a049a72",
   "metadata": {},
   "outputs": [],
   "source": [
    "### Convert number grades into letter grades\n",
    "\n",
    "# 0 - 60 = F\n",
    "# 60.1 - 70 = D\n",
    "# 70.1 - 80 = C\n",
    "# 80.1 - 90 = B\n",
    "# 90.1 - 100+ = A\n",
    "\n",
    "#### STEP 1: create the bin limits ####\n",
    "\n",
    "bins = [0, 60, 70, 80, 90, 150]\n",
    "\n",
    "## the bin limits are the cutoff points for the values\n",
    "## each number shown is the cutoff for a specific group (0-60, 60.1 - 70, 70.1 - 80...)\n",
    "\n",
    "bin_labels = [\"F\", \"D\", \"C\", \"B\", \"A\"]\n",
    "\n",
    "## the bin labels are the group names that will be created\n",
    "## there should always be one less group than bins\n",
    "\n",
    "#### STEP 2: apply your bins to a specific column (or create new column) in dataset  ####\n",
    "## new column = pd.cut(column to apply to, bin cutoff list, labels = list of bin labels)\n",
    "# pd.cut function segments and organizes values into the appropriate bin\n",
    "\n",
    "df[\"Letter Grades\"] = pd.cut(df[\"Grades\"], bins, labels = bin_labels)\n",
    "\n",
    "#### STEP 3: check changes  ####\n",
    "\n",
    "df"
   ]
  },
  {
   "cell_type": "code",
   "execution_count": null,
   "id": "c6fe5ebd",
   "metadata": {},
   "outputs": [],
   "source": [
    "## now that you have a categorical variable, use value counts\n",
    "\n",
    "df[\"Letter Grades\"].value_counts()"
   ]
  },
  {
   "cell_type": "markdown",
   "id": "d24a9399",
   "metadata": {},
   "source": [
    "# { Exercise 2 }\n",
    "\n",
    "Run the cell below to recreate the passengers dataset. Answer the questions below. "
   ]
  },
  {
   "cell_type": "code",
   "execution_count": null,
   "id": "6bb3d222",
   "metadata": {},
   "outputs": [],
   "source": [
    "## Airline Passenger Data\n",
    " \n",
    "passenger = {\"Name\":[\"Carmen Stanley\", \"Marley Smith\", \"Chadwick Tyler\", \"Vernon Templeton\", \"Kim Balgor\"], \n",
    "             \"Gender\":[\"F\", \"M\", np.nan, \"M\", \"F\"], \n",
    "             \"Nationality\":[\"Columbia\", \"Scotland\", \"USA\", \"Canada\", \"South Africa\"], \n",
    "             \"Airline\":[\"Delta\", \"Southwest\", np.nan, np.nan, \"United\"], \n",
    "             \"Ticket Price\":[456.99, 206.00, 567.75, 789.77, 132.45],\n",
    "             \"Seat Class\":[\"Eco\", \"Eco\", \"Business\", \"First Class\", \"Eco\"], \n",
    "             \"Seat Assign\": [\"18B\", \"23A\", \"9C\", \"2A\", \"34D\"], \n",
    "             \"Checked Bag\":[\"Y\", \"Y\", \"N\", \"Y\", \"N\"], \n",
    "             \"CarryOn Bag\":[\"Y\", \"Y\", \"Y\", \"N\", \"N\"], \n",
    "             \"Destination\":[\"ATL\", \"LA\", \"NYC\", \"ATL\", \"CHI\"], \n",
    "             \"RoundTrip\": [1, 1, 0, 0, 1]}\n",
    "\n",
    "df = pd.DataFrame(passenger)\n",
    "\n",
    "df"
   ]
  },
  {
   "cell_type": "markdown",
   "id": "038f2fa9",
   "metadata": {},
   "source": [
    "1. Drop the \"Seat Class\" column from the dataset. Let's recreate this column using bins. "
   ]
  },
  {
   "cell_type": "code",
   "execution_count": null,
   "id": "7f42ba03",
   "metadata": {},
   "outputs": [],
   "source": []
  },
  {
   "cell_type": "markdown",
   "id": "e22c1664",
   "metadata": {},
   "source": [
    "2. Create bins for ticket price. Using the following limits, create bins to represent these limits, then create labels for the bins. The limits for each bin are the following:\n",
    "\n",
    "        0 - 200 = Discount\n",
    "        201 - 350 = Economy        \n",
    "        351 - 500 = Business       \n",
    "        501 - 1000 = First Class\n",
    "        "
   ]
  },
  {
   "cell_type": "code",
   "execution_count": null,
   "id": "c355d198",
   "metadata": {},
   "outputs": [],
   "source": []
  },
  {
   "cell_type": "markdown",
   "id": "d818879e",
   "metadata": {},
   "source": [
    "3. Create a new column called \"passenger class\". Bin the 'ticket price' column and save the new groups in the 'passenger class' column. You need to use the pd.cut() function to complete this. "
   ]
  },
  {
   "cell_type": "code",
   "execution_count": null,
   "id": "4d909707",
   "metadata": {},
   "outputs": [],
   "source": []
  },
  {
   "cell_type": "markdown",
   "id": "409c900f",
   "metadata": {},
   "source": [
    "## Defining and Applying Custom Functions\n",
    "\n",
    "User-defined functions allow you to create shortcuts when working with your specific dataset. While there are several libraries that have functions for your use, sometimes you want something designed specifically to make your life easier when working with your specific data."
   ]
  },
  {
   "cell_type": "code",
   "execution_count": null,
   "id": "6d29e3b9",
   "metadata": {},
   "outputs": [],
   "source": [
    "## create dataset to practice with \n",
    "\n",
    "grades = {'Student':[\"Taylor\", np.nan, \"Sherrie\", \"Mary\", \"Henry\", \"Michael\", \"June\"],\n",
    "        'Grades': [89, 56, 100, 68, 81, 71, 97],\n",
    "        'Subject':[\"Math\", \"English\", \"Studio Art\", \"Biology\", \"Chemistry\", \"Latin\", \"Physics\"]}\n",
    "\n",
    "df = pd.DataFrame(grades)\n",
    "df"
   ]
  },
  {
   "cell_type": "code",
   "execution_count": null,
   "id": "a77f5db8",
   "metadata": {},
   "outputs": [],
   "source": [
    "## refresher on defining functions ##\n",
    "\n",
    "def addNumbers(x, y):\n",
    "    return x + y\n",
    "\n",
    "## apply function:\n",
    "\n",
    "addNumbers(10, 6)"
   ]
  },
  {
   "cell_type": "code",
   "execution_count": null,
   "id": "9f191afe",
   "metadata": {},
   "outputs": [],
   "source": [
    "df"
   ]
  },
  {
   "cell_type": "code",
   "execution_count": null,
   "id": "14b73f44",
   "metadata": {},
   "outputs": [],
   "source": [
    "## creating functions to apply to dataset ##\n",
    "## add 20 pts to the student grade\n",
    "\n",
    "def bonusGrade(OriginalGrade):\n",
    "    return OriginalGrade + 20\n",
    "\n",
    "## apply function to dataset column \n",
    "\n",
    "df[\"UpdatedGrade\"] = df[\"Grades\"].apply(bonusGrade)\n",
    "\n",
    "# check changes\n",
    "\n",
    "df"
   ]
  },
  {
   "cell_type": "code",
   "execution_count": null,
   "id": "8eea1feb",
   "metadata": {},
   "outputs": [],
   "source": [
    "## creating functions to apply to dataset ##\n",
    "## convert numeric grade to letter grade\n",
    "\n",
    "def letterGrade(numGrade):\n",
    "    if numGrade >= 90:\n",
    "        return \"A\"\n",
    "    elif numGrade >= 80:\n",
    "        return \"B\"\n",
    "    elif numGrade >= 70:\n",
    "        return \"C\"\n",
    "    elif numGrade >= 60:\n",
    "        return \"D\"\n",
    "    else:\n",
    "        return \"F\"\n",
    "\n",
    "## apply function to dataset column \n",
    "\n",
    "df[\"Letter Grade\"] = df[\"Grades\"].apply(letterGrade)\n",
    "\n",
    "df[\"Updated Letter Grade\"] = df[\"UpdatedGrade\"].apply(letterGrade)\n",
    "\n",
    "# check changes\n",
    "\n",
    "df"
   ]
  },
  {
   "cell_type": "markdown",
   "id": "e62fb8a8",
   "metadata": {},
   "source": [
    "# { Excerise 3 }\n",
    "\n",
    "Run the cell below to recreate the passengers dataset. Answer the questions below. "
   ]
  },
  {
   "cell_type": "code",
   "execution_count": null,
   "id": "5645a290",
   "metadata": {},
   "outputs": [],
   "source": [
    "## Airline Passenger Data\n",
    " \n",
    "passenger = {\"Name\":[\"Carmen Stanley\", \"Marley Smith\", \"Chadwick Tyler\", \"Vernon Templeton\", \"Kim Balgor\"], \n",
    "             \"Gender\":[\"F\", \"M\", np.nan, \"M\", \"F\"], \n",
    "             \"Nationality\":[\"Columbia\", \"Scotland\", \"USA\", \"Canada\", \"South Africa\"], \n",
    "             \"Airline\":[\"Delta\", \"Southwest\", np.nan, np.nan, \"United\"], \n",
    "             \"Ticket Price\":[456.99, 206.00, 567.75, 789.77, 132.45],\n",
    "             \"Seat Class\":[\"Eco\", \"Eco\", \"Business\", \"First Class\", \"Eco\"], \n",
    "             \"Seat Assign\": [\"18B\", \"23A\", \"9C\", \"2A\", \"34D\"], \n",
    "             \"Checked Bag\":[\"Y\", \"Y\", \"N\", \"Y\", \"N\"], \n",
    "             \"CarryOn Bag\":[\"Y\", \"Y\", \"Y\", \"N\", \"N\"], \n",
    "             \"Destination\":[\"ATL\", \"LA\", \"NYC\", \"ATL\", \"CHI\"], \n",
    "             \"RoundTrip\": [1, 1, 0, 0, 1]}\n",
    "\n",
    "df = pd.DataFrame(passenger)\n",
    "\n",
    "df"
   ]
  },
  {
   "cell_type": "markdown",
   "id": "46ac7627",
   "metadata": {},
   "source": [
    "1. Create a function that replaces the values 1 and 0 to \"Yes\" and \"No\". Apply this function to the \"rount trip\" column. "
   ]
  },
  {
   "cell_type": "code",
   "execution_count": null,
   "id": "73f8cdae",
   "metadata": {},
   "outputs": [],
   "source": []
  },
  {
   "cell_type": "code",
   "execution_count": null,
   "id": "5fdf9b34",
   "metadata": {},
   "outputs": [],
   "source": []
  },
  {
   "cell_type": "markdown",
   "id": "a93637ad",
   "metadata": {},
   "source": [
    "## Manipulating String Data\n",
    "\n",
    "When you apply functions to columns with string data, the changes you make will apply to all the values in that column. This makes it very easy to make big changes quickly. Some of these functions will be familiar from when we were working with just strings (outside of a dataset)!\n",
    "\n",
    "When you are using string functions on data from a dataset, you need to specify that you are working with string-type data by using the \"str\" addition to your code. "
   ]
  },
  {
   "cell_type": "code",
   "execution_count": null,
   "id": "0c3e487f",
   "metadata": {},
   "outputs": [],
   "source": [
    "df = pd.read_excel(\"Movie_Data.xlsx\")\n",
    "\n",
    "df.head()"
   ]
  },
  {
   "cell_type": "markdown",
   "id": "b5bdb395",
   "metadata": {},
   "source": [
    "***\n",
    "### Altering String Case (uppercase, lowercase, titlecase)\n",
    "***"
   ]
  },
  {
   "cell_type": "code",
   "execution_count": null,
   "id": "d3c5cfa8",
   "metadata": {},
   "outputs": [],
   "source": [
    "## Overwrite the Title column to convert all movie titles to uppercase\n",
    "\n",
    "df[\"Title\"] = df[\"Title\"].str.upper()\n",
    "\n",
    "df.head()"
   ]
  },
  {
   "cell_type": "code",
   "execution_count": null,
   "id": "3a2f75c0",
   "metadata": {},
   "outputs": [],
   "source": [
    "## Overwrite the Title column to convert all movie titles to lowercase\n",
    "\n",
    "df[\"Title\"] = df[\"Title\"].str.lower()\n",
    "\n",
    "df.head()"
   ]
  },
  {
   "cell_type": "code",
   "execution_count": null,
   "id": "d58d5157",
   "metadata": {},
   "outputs": [],
   "source": [
    "## Overwrite the Title column to convert all movie titles to titlecase\n",
    "\n",
    "df[\"Title\"] = df[\"Title\"].str.title()\n",
    "\n",
    "df.head()"
   ]
  },
  {
   "cell_type": "markdown",
   "id": "a1d83b3d",
   "metadata": {},
   "source": [
    "# { Exercise 4 }"
   ]
  },
  {
   "cell_type": "markdown",
   "id": "f238f71c",
   "metadata": {},
   "source": [
    "1. Uppercase the \"Runtime\" column"
   ]
  },
  {
   "cell_type": "code",
   "execution_count": null,
   "id": "d6f9a007",
   "metadata": {},
   "outputs": [],
   "source": []
  },
  {
   "cell_type": "markdown",
   "id": "bd2f049f",
   "metadata": {},
   "source": [
    "2. Lowercase the \"Star 3\" column"
   ]
  },
  {
   "cell_type": "code",
   "execution_count": null,
   "id": "3174b0f2",
   "metadata": {},
   "outputs": [],
   "source": []
  },
  {
   "cell_type": "markdown",
   "id": "866d1dcd",
   "metadata": {},
   "source": [
    "3. Change the \"Runtime\" into titlecase"
   ]
  },
  {
   "cell_type": "code",
   "execution_count": null,
   "id": "f32c4d34",
   "metadata": {},
   "outputs": [],
   "source": []
  },
  {
   "cell_type": "markdown",
   "id": "65eb4ee8",
   "metadata": {},
   "source": [
    "***\n",
    "### Removing White Space from Text\n",
    "***"
   ]
  },
  {
   "cell_type": "code",
   "execution_count": null,
   "id": "2d2bc9c7",
   "metadata": {},
   "outputs": [],
   "source": [
    "## overwrite the Runtime column to strip all white spaces from the front and end of the text\n",
    "\n",
    "df[\"Runtime\"] = df[\"Runtime\"].str.strip()\n",
    "\n",
    "df.head()"
   ]
  },
  {
   "cell_type": "code",
   "execution_count": null,
   "id": "c3a3d33a",
   "metadata": {},
   "outputs": [],
   "source": [
    "## remove all white spaces from right side of text\n",
    "\n",
    "df[\"Runtime\"] = df[\"Runtime\"].str.rstrip()\n",
    "\n",
    "df.head()"
   ]
  },
  {
   "cell_type": "code",
   "execution_count": null,
   "id": "3d04fb93",
   "metadata": {},
   "outputs": [],
   "source": [
    "## remove all white spaces from left side of text\n",
    "\n",
    "df[\"Runtime\"] = df[\"Runtime\"].str.lstrip()\n",
    "\n",
    "df.head()"
   ]
  },
  {
   "cell_type": "markdown",
   "id": "100e71bc",
   "metadata": {},
   "source": [
    "***\n",
    "### Replace Specific Characters\n",
    "***"
   ]
  },
  {
   "cell_type": "code",
   "execution_count": null,
   "id": "8f4e07ef",
   "metadata": {},
   "outputs": [],
   "source": [
    "df.head()"
   ]
  },
  {
   "cell_type": "code",
   "execution_count": null,
   "id": "adab30df",
   "metadata": {},
   "outputs": [],
   "source": [
    "## replace specific symbol in a specific column\n",
    "\n",
    "df[\"Genre\"] = df[\"Genre\"].str.replace(\",\", \"/\")\n",
    "\n",
    "# check changes\n",
    "\n",
    "df.head()"
   ]
  },
  {
   "cell_type": "markdown",
   "id": "f007d162",
   "metadata": {},
   "source": [
    "# { Exercise 5 }\n",
    "\n",
    "1. Replace the white spaces (represented by \" \") in 'Runtime' with a dash (-)"
   ]
  },
  {
   "cell_type": "code",
   "execution_count": null,
   "id": "44a7d7ff",
   "metadata": {},
   "outputs": [],
   "source": []
  },
  {
   "cell_type": "code",
   "execution_count": null,
   "id": "1080c94d",
   "metadata": {},
   "outputs": [],
   "source": []
  },
  {
   "cell_type": "markdown",
   "id": "a5de6c91",
   "metadata": {},
   "source": [
    "***\n",
    "### Splitting Strings of Text\n",
    "***"
   ]
  },
  {
   "cell_type": "code",
   "execution_count": null,
   "id": "dccb9851",
   "metadata": {},
   "outputs": [],
   "source": [
    "## Split the string of text at the white spaces\n",
    "## you will be returned a list of words \n",
    "\n",
    "df[\"Star 2\"] = df[\"Star 2\"].str.split()\n",
    "\n",
    "# check changes\n",
    "\n",
    "df.head()"
   ]
  },
  {
   "cell_type": "code",
   "execution_count": null,
   "id": "581a8d71",
   "metadata": {},
   "outputs": [],
   "source": [
    "## Split the string into new columns\n",
    "\n",
    "# split(n = 1, expand = True)\n",
    "## n = x >> split the string after a certain amount of white spaces only\n",
    "## expand = True >> expand the split text into new columns \n",
    "\n",
    "df[[\"Dir First\", \"Dir Last\"]] = df[\"Director\"].str.split(n = 1, expand = True)\n",
    "\n",
    "# check changes\n",
    "\n",
    "df.head()"
   ]
  },
  {
   "cell_type": "code",
   "execution_count": null,
   "id": "a368fec9",
   "metadata": {},
   "outputs": [],
   "source": [
    "### Split the string into new columns\n",
    "# split the sting based on a specific symbol; the code will split the string at all the instances of the symbol given\n",
    "\n",
    "df[[\"Genre_1\", \"Genre_2\", \"Genre_3\"]] = df[\"Genre\"].str.split(\"/\", expand = True)\n",
    "\n",
    "# check changes\n",
    "\n",
    "df.head()"
   ]
  },
  {
   "cell_type": "markdown",
   "id": "8619db25",
   "metadata": {},
   "source": [
    "***\n",
    "### Converting Columns to Different Data Types\n",
    "***"
   ]
  },
  {
   "cell_type": "code",
   "execution_count": null,
   "id": "da71b379",
   "metadata": {},
   "outputs": [],
   "source": [
    "df.info()"
   ]
  },
  {
   "cell_type": "code",
   "execution_count": null,
   "id": "32a195f1",
   "metadata": {},
   "outputs": [],
   "source": [
    "# convert IMDB column to float - how does the output change?\n",
    "\n",
    "df[\"IMDB rating\"] = df[\"IMDB rating\"].astype(str)"
   ]
  },
  {
   "cell_type": "code",
   "execution_count": null,
   "id": "5a5b978c",
   "metadata": {},
   "outputs": [],
   "source": [
    "df.dtypes"
   ]
  },
  {
   "cell_type": "code",
   "execution_count": null,
   "id": "de404b78",
   "metadata": {},
   "outputs": [],
   "source": [
    "# convert IMDB column to float\n",
    "\n",
    "df[\"IMDB rating\"] = df[\"IMDB rating\"].astype(float)"
   ]
  },
  {
   "cell_type": "code",
   "execution_count": null,
   "id": "b9b38873",
   "metadata": {},
   "outputs": [],
   "source": [
    "df.dtypes"
   ]
  },
  {
   "cell_type": "code",
   "execution_count": null,
   "id": "96ce6801",
   "metadata": {},
   "outputs": [],
   "source": [
    "# convert IMDB column to integer\n",
    "\n",
    "df[\"IMDB rating\"] = df[\"IMDB rating\"].astype(int)"
   ]
  },
  {
   "cell_type": "code",
   "execution_count": null,
   "id": "89240dd9",
   "metadata": {},
   "outputs": [],
   "source": [
    "df.dtypes"
   ]
  }
 ],
 "metadata": {
  "kernelspec": {
   "display_name": "Python 3",
   "language": "python",
   "name": "python3"
  },
  "language_info": {
   "codemirror_mode": {
    "name": "ipython",
    "version": 3
   },
   "file_extension": ".py",
   "mimetype": "text/x-python",
   "name": "python",
   "nbconvert_exporter": "python",
   "pygments_lexer": "ipython3",
   "version": "3.8.8"
  }
 },
 "nbformat": 4,
 "nbformat_minor": 5
}
