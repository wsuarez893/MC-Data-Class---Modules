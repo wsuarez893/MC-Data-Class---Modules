{
  "cells": [
    {
      "cell_type": "markdown",
      "metadata": {
        "id": "view-in-github",
        "colab_type": "text"
      },
      "source": [
        "<a href=\"https://colab.research.google.com/github/wsuarez893/MC-Data-Class---Modules/blob/main/Walter_Suarez_Module_4_Class_Demo.ipynb\" target=\"_parent\"><img src=\"https://colab.research.google.com/assets/colab-badge.svg\" alt=\"Open In Colab\"/></a>"
      ]
    },
    {
      "cell_type": "markdown",
      "id": "e3dd6c76",
      "metadata": {
        "id": "e3dd6c76"
      },
      "source": [
        "### More List Methods"
      ]
    },
    {
      "cell_type": "code",
      "execution_count": null,
      "id": "3d4e375c",
      "metadata": {
        "id": "3d4e375c"
      },
      "outputs": [],
      "source": [
        "## define a list of clothes\n",
        "\n",
        "clothes = ['shirts', 'jacket', 'pants', 'shorts', 'coat']"
      ]
    },
    {
      "cell_type": "markdown",
      "id": "846b2e80",
      "metadata": {
        "id": "846b2e80"
      },
      "source": [
        "#### pop method\n",
        "\n",
        "The .pop() method removes an item from a list. If no argument is given, it automatically removes the last item from the list. If you give the index, it will remove the item found in that index location. "
      ]
    },
    {
      "cell_type": "code",
      "execution_count": null,
      "id": "ba78f79d",
      "metadata": {
        "id": "ba78f79d"
      },
      "outputs": [],
      "source": [
        "## remove the last item of the list clothes\n",
        "\n",
        "clothes.pop()\n",
        "\n",
        "print(clothes)"
      ]
    },
    {
      "cell_type": "code",
      "execution_count": null,
      "id": "6c0ecb3e",
      "metadata": {
        "id": "6c0ecb3e"
      },
      "outputs": [],
      "source": [
        "## save the removed item to a variable\n",
        "\n",
        "item = clothes.pop()\n",
        "\n",
        "print(item)"
      ]
    },
    {
      "cell_type": "code",
      "execution_count": null,
      "id": "ca40f2c0",
      "metadata": {
        "id": "ca40f2c0"
      },
      "outputs": [],
      "source": [
        "## remove an item at a specific index\n",
        "\n",
        "item = clothes.pop(2)\n",
        "\n",
        "print(item)"
      ]
    },
    {
      "cell_type": "markdown",
      "id": "d8504659",
      "metadata": {
        "id": "d8504659"
      },
      "source": [
        "#### remove method\n",
        "\n",
        "The .remove() method will remove a specific item from a list. If an item is repeated within the list, it will remove the first instance. "
      ]
    },
    {
      "cell_type": "code",
      "execution_count": null,
      "id": "4c767389",
      "metadata": {
        "id": "4c767389"
      },
      "outputs": [],
      "source": [
        "## remove item from list given name\n",
        "\n",
        "clothes.remove(\"shirts\")\n",
        "\n",
        "print(clothes)"
      ]
    },
    {
      "cell_type": "markdown",
      "id": "f8dc3047",
      "metadata": {
        "id": "f8dc3047"
      },
      "source": [
        "#### count method\n",
        "\n",
        "The count method returns the number of times a specified item appears in a list. "
      ]
    },
    {
      "cell_type": "code",
      "execution_count": null,
      "id": "edab165c",
      "metadata": {
        "scrolled": true,
        "id": "edab165c"
      },
      "outputs": [],
      "source": [
        "## let's check if 'pants' show up in the list at all\n",
        "\n",
        "\"pants\" in clothes"
      ]
    },
    {
      "cell_type": "code",
      "execution_count": null,
      "id": "b5bb8575",
      "metadata": {
        "id": "b5bb8575"
      },
      "outputs": [],
      "source": [
        "## how many times does \"pants\" show up in the list?\n",
        "\n",
        "clothes.count(\"pants\")"
      ]
    },
    {
      "cell_type": "markdown",
      "id": "a8f30337",
      "metadata": {
        "id": "a8f30337"
      },
      "source": [
        "#### sort method and function \n",
        "\n",
        "The sort method sorts elements of a given list (ascending or descending) order. "
      ]
    },
    {
      "cell_type": "code",
      "execution_count": null,
      "id": "325305ac",
      "metadata": {
        "id": "325305ac"
      },
      "outputs": [],
      "source": [
        "## copy the clothes list\n",
        "\n",
        "clothes_sorted = clothes.copy()\n",
        "\n",
        "## sort the 'clothes_sorted' list\n",
        "\n",
        "clothes_sorted.sort()\n",
        "\n",
        "## print unsorted and sorted list\n",
        "\n",
        "print(f\"Original order: {clothes}\")\n",
        "print(f\"Sorted order: {clothes_sorted}\")"
      ]
    },
    {
      "cell_type": "code",
      "execution_count": null,
      "id": "4fb19f55",
      "metadata": {
        "id": "4fb19f55"
      },
      "outputs": [],
      "source": [
        "## copy the clothes list\n",
        "\n",
        "clothes_sorted = clothes.copy()\n",
        "\n",
        "## sort the 'clothes_sorted' list in reverse order\n",
        "\n",
        "clothes_sorted.sort(reverse = True)\n",
        "\n",
        "## print unsorted and sorted list\n",
        "\n",
        "print(f\"Original order: {clothes}\")\n",
        "print(f\"Sorted order: {clothes_sorted}\")"
      ]
    },
    {
      "cell_type": "code",
      "execution_count": null,
      "id": "2097f27e",
      "metadata": {
        "id": "2097f27e"
      },
      "outputs": [],
      "source": [
        "## sorted function - sorted()\n",
        "## sort the 'clothes_sorted' list\n",
        "\n",
        "clothes_sorted = sorted(clothes)\n",
        "\n",
        "## print unsorted and sorted list\n",
        "\n",
        "print(f\"Original order: {clothes}\")\n",
        "print(f\"Sorted order: {clothes_sorted}\")"
      ]
    },
    {
      "cell_type": "markdown",
      "id": "17e744c4",
      "metadata": {
        "id": "17e744c4"
      },
      "source": [
        "### Tuples\n",
        "\n",
        "A tuple is another data type similar to a list (a collection of items); however, unlike a list, a tuple is unchangeable. Lists are <b>dynamic</b> and tuples are <b>static</b>. Lists can be changed or modified after they are created, tuples cannot be changed or modified after creation. Since it cannot be changed, it has less functionality than a list. "
      ]
    },
    {
      "cell_type": "code",
      "execution_count": null,
      "id": "1643ae2e",
      "metadata": {
        "id": "1643ae2e"
      },
      "outputs": [],
      "source": [
        "## tuples are created using paraentheses vs brackets \n",
        "\n",
        "week = ('M', 'T', 'W', 'Th', 'F', 'Sa', 'Su')\n",
        "\n",
        "## print tuple\n",
        "\n",
        "print(week)"
      ]
    },
    {
      "cell_type": "code",
      "execution_count": null,
      "id": "5a80d8c5",
      "metadata": {
        "scrolled": true,
        "id": "5a80d8c5"
      },
      "outputs": [],
      "source": [
        "## determine the length of a tuple\n",
        "\n",
        "print(len(week))\n",
        "\n",
        "## index items in a tuple\n",
        "\n",
        "print(week[3])\n",
        "\n",
        "## slice items in a tuple\n",
        "# slicing a tuple is inclusive : exclusive\n",
        "\n",
        "print(week[0:4])"
      ]
    },
    {
      "cell_type": "markdown",
      "id": "cd6ca93a",
      "metadata": {
        "id": "cd6ca93a"
      },
      "source": [
        "#### list() and tuple() methods\n",
        "\n",
        "You can convert a tuple to a list using the list() function; you can convert a list into a tuple using the tuple() function. "
      ]
    },
    {
      "cell_type": "code",
      "execution_count": null,
      "id": "a5610fb0",
      "metadata": {
        "id": "a5610fb0"
      },
      "outputs": [],
      "source": [
        "# convert list to tuple\n",
        "\n",
        "clothes_tuple = tuple(clothes)\n",
        "\n",
        "# print tuple\n",
        "\n",
        "print(clothes_tuple)\n",
        "print(type(clothes_tuple))"
      ]
    },
    {
      "cell_type": "code",
      "execution_count": null,
      "id": "2ff08a4d",
      "metadata": {
        "id": "2ff08a4d"
      },
      "outputs": [],
      "source": [
        "# convert tuple to list\n",
        "\n",
        "week_list = list(week)\n",
        "\n",
        "# print list\n",
        "\n",
        "print(week_list)\n",
        "print(type(week_list))"
      ]
    },
    {
      "cell_type": "markdown",
      "id": "03684a97",
      "metadata": {
        "id": "03684a97"
      },
      "source": [
        "# [ Exercise 1 ] \n",
        "\n",
        "Get 7 book titles from a user and save the title names into a list. Next, remove the title in the middle of the list <b>after</b> sorting the list alphabetically. Finally, using formatted strings, display the original list, the sorted list, and the list after removing the above item. \n",
        "\n",
        "Make copies of your lists as you work through the steps. "
      ]
    },
    {
      "cell_type": "code",
      "execution_count": null,
      "id": "414f92d1",
      "metadata": {
        "id": "414f92d1"
      },
      "outputs": [],
      "source": [
        "book1 =input(\"please give a book name:   \")\n",
        "book2 =input(\"please give a book name:   \")\n",
        "book3 =input(\"please give a book name:   \")\n",
        "book4 =input(\"please give a book name:   \")\n",
        "book5 =input(\"please give a book name:   \")\n",
        "\n",
        "book_list = [book1, book2, book3, book4, book5]\n",
        "print(book_list)\n",
        "\n",
        "book_sorted = book_list.copy()\n",
        "book_sorted.sort()\n",
        "print(book_sorted)\n",
        "\n",
        "book_remove = book_list.copy()\n",
        "book_remove.remove(\"cancha\")\n",
        "print(book_remove)"
      ]
    },
    {
      "cell_type": "code",
      "execution_count": null,
      "id": "0db8817c",
      "metadata": {
        "id": "0db8817c"
      },
      "outputs": [],
      "source": [
        ""
      ]
    },
    {
      "cell_type": "markdown",
      "id": "6419208b",
      "metadata": {
        "id": "6419208b"
      },
      "source": [
        "### Loops\n",
        "\n",
        "#### For Loops\n",
        "For-loops are used to iterate (repeat) over a sequence. Using a for loop, we can execute a set of tasks once for <b>each</b> item in a list, tuple, string, etc."
      ]
    },
    {
      "cell_type": "code",
      "execution_count": null,
      "id": "f6f174bb",
      "metadata": {
        "id": "f6f174bb"
      },
      "outputs": [],
      "source": [
        "## define a list of colors\n",
        "\n",
        "colors = [\"red\", \"blue\", \"green\", \"pink\", \"purple\", \"yellow\"]"
      ]
    },
    {
      "cell_type": "code",
      "execution_count": null,
      "id": "7918b315",
      "metadata": {
        "id": "7918b315"
      },
      "outputs": [],
      "source": [
        "## create a for-loop to print each color in the list\n",
        "\n",
        "for color in colors:\n",
        "    print(color)"
      ]
    },
    {
      "cell_type": "code",
      "execution_count": null,
      "id": "dccb4b4b",
      "metadata": {
        "id": "dccb4b4b"
      },
      "outputs": [],
      "source": [
        "## create a for-loop to print each color in the list with formatted string\n",
        "\n",
        "for color in colors:\n",
        "    print(f\"My favorite color is {color}.\")"
      ]
    },
    {
      "cell_type": "code",
      "execution_count": null,
      "id": "0bc0ccba",
      "metadata": {
        "id": "0bc0ccba"
      },
      "outputs": [],
      "source": [
        "## using a for-loop with a string\n",
        "\n",
        "for letter in \"Hello how are you?\":\n",
        "    print(letter)"
      ]
    },
    {
      "cell_type": "code",
      "execution_count": null,
      "id": "d8df23ba",
      "metadata": {
        "id": "d8df23ba"
      },
      "outputs": [],
      "source": [
        "stars = [3, 8, 2, 1, 6, 7, 4, 5]\n",
        "\n",
        "for num in stars:\n",
        "    print(\"*\" * num)"
      ]
    },
    {
      "cell_type": "code",
      "execution_count": null,
      "id": "925a46f6",
      "metadata": {
        "scrolled": true,
        "id": "925a46f6"
      },
      "outputs": [],
      "source": [
        "names = [\"Carlos\", \"James\", \"Mark\", \"Janie\", \"Lucy\", \"Sarah\", \"Jackson\"]\n",
        "\n",
        "for name in names:\n",
        "    if name[0] == \"J\":\n",
        "        print(name)\n",
        "    else:\n",
        "        print(\"---\")"
      ]
    },
    {
      "cell_type": "markdown",
      "id": "2e2d135c",
      "metadata": {
        "id": "2e2d135c"
      },
      "source": [
        "# [ Exercise 2 ]\n",
        "\n",
        "Get a list of 5 numbers from a user. Save those numbers in a list called <b>numbers</b>. Create a for-loop that takes each number in the list and adds \"10\" to the number. Print each sum value. "
      ]
    },
    {
      "cell_type": "code",
      "execution_count": null,
      "id": "806093b8",
      "metadata": {
        "id": "806093b8"
      },
      "outputs": [],
      "source": [
        "num1 = int(input(\"give me a number:   \"))\n",
        "num2 = int(input(\"give me a number:   \"))\n",
        "num3 = int(input(\"give me a number:   \"))\n",
        "num4 = int(input(\"give me a number:   \"))\n",
        "num5 = int(input(\"give me a number:   \"))\n",
        "\n",
        "numbers = [num1, num2, num3, num4, num5]\n",
        "\n",
        "for num in numbers: \n",
        "  print(num + 10)"
      ]
    },
    {
      "cell_type": "code",
      "execution_count": null,
      "id": "41ddde53",
      "metadata": {
        "id": "41ddde53"
      },
      "outputs": [],
      "source": [
        ""
      ]
    },
    {
      "cell_type": "markdown",
      "id": "cdd3d1e6",
      "metadata": {
        "id": "cdd3d1e6"
      },
      "source": [
        "#### Range Function\n",
        "\n",
        "The range function creates a sequence of numbers starting from a given integer and stopping before a given integer (inclusive -> exclusive). The range function can be useful when incorporated into loops. The range function defaults to a 0 starting value but this can be altered, for example:\n",
        "\n",
        "        range(0, 10) returns the values 0 through 9\n",
        "        range(0, 11) returns the values 0 through 10\n",
        "        range(2, 7) returns the values 2 through 6\n",
        "        range(-1, 10) returns the values -1 through 9"
      ]
    },
    {
      "cell_type": "code",
      "execution_count": null,
      "id": "c0f5d5a6",
      "metadata": {
        "id": "c0f5d5a6"
      },
      "outputs": [],
      "source": [
        "for num in range(1, 5):\n",
        "    \n",
        "    print(num)"
      ]
    },
    {
      "cell_type": "code",
      "execution_count": null,
      "id": "ae3b977c",
      "metadata": {
        "id": "ae3b977c"
      },
      "outputs": [],
      "source": [
        "for num in range(1, 5):\n",
        "    \n",
        "    print(num, end = \" \")"
      ]
    },
    {
      "cell_type": "code",
      "execution_count": null,
      "id": "296fbcb0",
      "metadata": {
        "id": "296fbcb0"
      },
      "outputs": [],
      "source": [
        "for num in range(0,6):\n",
        "    \n",
        "    print(num * \"^\")"
      ]
    },
    {
      "cell_type": "code",
      "execution_count": null,
      "id": "90cd7ce6",
      "metadata": {
        "id": "90cd7ce6"
      },
      "outputs": [],
      "source": [
        "doubles = []\n",
        "\n",
        "for num in range(0, 100):\n",
        "    if num % 11 == 0:\n",
        "        doubles.append(num)\n",
        "        \n",
        "print(doubles)"
      ]
    },
    {
      "cell_type": "markdown",
      "id": "504ce344",
      "metadata": {
        "id": "504ce344"
      },
      "source": [
        "# [ Exercise 3 ]\n",
        "\n",
        "Using the range function and a for-loop to create a list of numbers from 0 through 50. Print each value. If the number ends in 0, next to the printed value, print a series of \" * \" equal to the number. "
      ]
    },
    {
      "cell_type": "code",
      "execution_count": null,
      "id": "6a7f3a37",
      "metadata": {
        "id": "6a7f3a37"
      },
      "outputs": [],
      "source": [
        "for num in range(0,50): \n",
        "  if num % 10 == 0: \n",
        "    print(\"*\" * num)\n",
        "  else: \n",
        "    print(num)"
      ]
    },
    {
      "cell_type": "code",
      "execution_count": null,
      "id": "f14f4814",
      "metadata": {
        "id": "f14f4814"
      },
      "outputs": [],
      "source": [
        ""
      ]
    },
    {
      "cell_type": "markdown",
      "id": "34f7761f",
      "metadata": {
        "id": "34f7761f"
      },
      "source": [
        "#### While Loops\n",
        "While-loops are used to execute a set of statements as long as a condition remains true. We generally use this loop when we don't know the number of times to iterate beforehand.\n",
        "\n",
        "In the while loop, the conditional expression is checked first. The body of the loop is executed if the conditional expression is true. After one loop, the conditional expression is checked again, if it is still true, the iterations continue. The entire loop continues until the conditional expression is false. "
      ]
    },
    {
      "cell_type": "code",
      "execution_count": null,
      "id": "ddaf4aea",
      "metadata": {
        "scrolled": false,
        "id": "ddaf4aea"
      },
      "outputs": [],
      "source": [
        "item = 1\n",
        "\n",
        "while item <= 5:\n",
        "    print(item)\n",
        "    item += 1"
      ]
    },
    {
      "cell_type": "code",
      "execution_count": null,
      "id": "c506d940",
      "metadata": {
        "id": "c506d940"
      },
      "outputs": [],
      "source": [
        "count = 0\n",
        "\n",
        "while count < 5:\n",
        "    print(f\"{count} is less than 5!\")\n",
        "    count += 1\n",
        "else: \n",
        "    print(f\"{count} is not less than 5!\")"
      ]
    },
    {
      "cell_type": "code",
      "execution_count": null,
      "id": "c5ad3a08",
      "metadata": {
        "id": "c5ad3a08"
      },
      "outputs": [],
      "source": [
        "choice = \"Y\"\n",
        "\n",
        "while choice == \"Y\":\n",
        "    choice = input(\"Please make a choice (Y/N): \")\n",
        "    \n",
        "    if choice == \"Y\":\n",
        "        print(\"Hello!\")\n",
        "    else:\n",
        "        print(\"Goodbye!\")"
      ]
    },
    {
      "cell_type": "code",
      "execution_count": null,
      "id": "f6dac3f4",
      "metadata": {
        "id": "f6dac3f4"
      },
      "outputs": [],
      "source": [
        "numbers = []\n",
        "\n",
        "while len(numbers) < 4:\n",
        "    num = int(input(\"Enter a number: \"))\n",
        "    if num % 2 == 0: ## only even numbers\n",
        "        numbers.append(num)\n",
        "        print(numbers)"
      ]
    },
    {
      "cell_type": "code",
      "execution_count": null,
      "id": "f0de2018",
      "metadata": {
        "id": "f0de2018"
      },
      "outputs": [],
      "source": [
        "go = True\n",
        "\n",
        "while go: \n",
        "    number = int(input(\"Enter a number between 1 and 10: \"))\n",
        "    \n",
        "    if number < 1 or number > 10:\n",
        "        go = False ## stop the loop\n",
        "    else:\n",
        "        print (\"*\" * number)"
      ]
    },
    {
      "cell_type": "markdown",
      "id": "40b0e9ba",
      "metadata": {
        "id": "40b0e9ba"
      },
      "source": [
        "# [ Exercise 4 ]\n",
        "\n",
        "If you save $1,000 each year with 1 percent annual interest, how much would you have saved in 5 years? Fix the code below and show how it works once it's cleaned up. "
      ]
    },
    {
      "cell_type": "code",
      "execution_count": null,
      "id": "a863e788",
      "metadata": {
        "id": "a863e788"
      },
      "outputs": [],
      "source": [
        "savings = 1000 \n",
        "years = 5\n",
        "interest = 0.01\n",
        "\n",
        "future_value = (savings*(1+(interest)))**years \n",
        "print(future_value)\n"
      ]
    },
    {
      "cell_type": "code",
      "execution_count": null,
      "id": "45cc9ac5",
      "metadata": {
        "id": "45cc9ac5"
      },
      "outputs": [],
      "source": [
        "HELP"
      ]
    },
    {
      "cell_type": "markdown",
      "id": "8c2406d0",
      "metadata": {
        "id": "8c2406d0"
      },
      "source": [
        "### Break and Continue Statements\n",
        "\n",
        "With the break statement, you can stop a loop before it has looped through all the items in the list, tuple, string, etc.\n",
        "\n",
        "With the continue statement, you can stop the current iteration of the loop and move to the next one. "
      ]
    },
    {
      "cell_type": "code",
      "execution_count": null,
      "id": "a1528e2d",
      "metadata": {
        "id": "a1528e2d"
      },
      "outputs": [],
      "source": [
        "## Break Statement\n",
        "\n",
        "answers = [\"A\",\"C\", \"\", \"B\", \"D\"]\n",
        "\n",
        "##\n",
        "\n",
        "for answer in answers:\n",
        "    if answer == \"\": \n",
        "        print(\"Incomplete\")\n",
        "        break\n",
        "    print(answer)"
      ]
    },
    {
      "cell_type": "code",
      "execution_count": null,
      "id": "e2a7be5b",
      "metadata": {
        "id": "e2a7be5b"
      },
      "outputs": [],
      "source": [
        "## Continue Statement\n",
        "\n",
        "answers = [\"A\",\"C\", \"\", \"B\", \"D\"]\n",
        "\n",
        "##\n",
        "\n",
        "for answer in answers:\n",
        "    if answer == \"\": \n",
        "        print(\"Incomplete\")\n",
        "        continue\n",
        "    print(answer)"
      ]
    },
    {
      "cell_type": "code",
      "execution_count": null,
      "id": "6e12a79c",
      "metadata": {
        "id": "6e12a79c"
      },
      "outputs": [],
      "source": [
        "## Break & Continue Statement\n",
        "\n",
        "answers = [\"A\",\"C\", \"\", \"B\", \"D\"]\n",
        "\n",
        "##\n",
        "\n",
        "while True:\n",
        "    answer = input(\"Enter a grade (or 'q' to quit): \")\n",
        "    if answer == 'q': \n",
        "        break\n",
        "    elif answer == \"\":\n",
        "        print(\"Incomplete\")\n",
        "        continue\n",
        "    else:\n",
        "        print(f\"\\nYour grade is {answer}.\")"
      ]
    },
    {
      "cell_type": "markdown",
      "id": "003d89dc",
      "metadata": {
        "id": "003d89dc"
      },
      "source": [
        "### Nested Loops\n",
        "\n",
        "The \"Inception\" of loops. A nested loop is a loop inside of a loop. The \"inner loop\" will be executed one time for each iteration of the \"outer loop\". "
      ]
    },
    {
      "cell_type": "code",
      "execution_count": null,
      "id": "6bb64554",
      "metadata": {
        "id": "6bb64554"
      },
      "outputs": [],
      "source": [
        "weather = [\"sunny\", \"partly cloudy\", \"rain\"]\n",
        "temp = [67, 71, 76, 60]\n",
        "\n",
        "## \n",
        "\n",
        "for x in weather:\n",
        "    for t in temp:\n",
        "        print(f\"Today the weather is {x} and the temp is {t} degrees.\")"
      ]
    },
    {
      "cell_type": "markdown",
      "id": "8af50ca7",
      "metadata": {
        "id": "8af50ca7"
      },
      "source": [
        "# [ Exercise 5 ]\n",
        "\n",
        "Develop the code below to produce the following output: \n",
        "\n",
        "    *\n",
        "    **\n",
        "    ***\n",
        "    ****\n",
        "    *****"
      ]
    },
    {
      "cell_type": "code",
      "execution_count": 2,
      "id": "b842517d",
      "metadata": {
        "colab": {
          "base_uri": "https://localhost:8080/"
        },
        "id": "b842517d",
        "outputId": "7786433a-9e62-44ba-dcc3-aa501970e504"
      },
      "outputs": [
        {
          "output_type": "stream",
          "name": "stdout",
          "text": [
            "*\n",
            "**\n",
            "***\n",
            "****\n",
            "*****\n"
          ]
        }
      ],
      "source": [
        "item = 1\n",
        "\n",
        "while item <=5:\n",
        "  print(\"*\" * item)\n",
        "  item += 1"
      ]
    },
    {
      "cell_type": "code",
      "execution_count": null,
      "id": "8fab0818",
      "metadata": {
        "id": "8fab0818"
      },
      "outputs": [],
      "source": [
        "Help? "
      ]
    }
  ],
  "metadata": {
    "kernelspec": {
      "display_name": "Python 3",
      "language": "python",
      "name": "python3"
    },
    "language_info": {
      "codemirror_mode": {
        "name": "ipython",
        "version": 3
      },
      "file_extension": ".py",
      "mimetype": "text/x-python",
      "name": "python",
      "nbconvert_exporter": "python",
      "pygments_lexer": "ipython3",
      "version": "3.8.8"
    },
    "colab": {
      "name": "Walter Suarez_Module 4 - Class Demo.ipynb",
      "provenance": [],
      "include_colab_link": true
    }
  },
  "nbformat": 4,
  "nbformat_minor": 5
}